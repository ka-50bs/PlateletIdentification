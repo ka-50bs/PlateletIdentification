{
 "cells": [
  {
   "cell_type": "markdown",
   "id": "8cc75985",
   "metadata": {},
   "source": [
    "В этом примере будет показана работа с объектом класса *InverseSolver* программной библиотеки *SFCPurifier*.\n",
    "Класс *InverseSolver* предназначен для решения обратной задачи светорассеяния методом поиска ближайшего элемента в базе данных и алгоритмами глобальной оптимизации (в разработке). Поиск ближайшего элемента может производится несколькими методами: \n",
    "- полный перебор (bruteforce)\n",
    "- kd-дерево (kd-tree)\n",
    "- метрическое дерево (ball-tree).\n",
    "\n",
    "Для оценки математического ожиданя и дисперсии найденных параметров возможно использование байесовского подхода."
   ]
  },
  {
   "cell_type": "code",
   "execution_count": 1,
   "id": "b8d0f8e5",
   "metadata": {},
   "outputs": [],
   "source": [
    "import pandas as pd\n",
    "import numpy as np\n",
    "import SFCPurifier\n",
    "import matplotlib.pyplot as plt\n",
    "from sklearn.model_selection import train_test_split\n",
    "from sklearn.metrics import mean_squared_error\n"
   ]
  },
  {
   "cell_type": "markdown",
   "id": "3b193908",
   "metadata": {},
   "source": []
  },
  {
   "cell_type": "code",
   "execution_count": 2,
   "id": "568cd4f2",
   "metadata": {},
   "outputs": [],
   "source": [
    "solver = SFCPurifier.InverseSolver()\n",
    "# binn = pocket.Purifier()\n",
    "# binn.openBinFile(r'C:\\Users\\Kamov\\Desktop\\20240513\\lat_3.7\\3D_pockets_uint16.bin')"
   ]
  },
  {
   "cell_type": "code",
   "execution_count": 3,
   "id": "f30c01a2",
   "metadata": {},
   "outputs": [],
   "source": [
    "mon_path = r'C:\\Users\\Kamov\\Desktop\\Новая папка\\PLT\\Plt_200k_h2.csv'\n",
    "mon_dim = r'C:\\Users\\Kamov\\Desktop\\Новая папка\\PLT\\dimer_bd_5000.csv'"
   ]
  },
  {
   "cell_type": "code",
   "execution_count": 4,
   "id": "41b07477",
   "metadata": {},
   "outputs": [],
   "source": [
    "df_mon = pd.read_csv(mon_path, delimiter=';')\n",
    "df_dim = pd.read_csv(mon_dim, delimiter=';')\n",
    "\n",
    "mon_par_labl = df_mon.columns[:4]\n",
    "dim_par_labl = df_dim.columns[:11]\n",
    "\n",
    "angles_range = df_mon.columns[4:]\n",
    "\n",
    "angles_forw = angles_range[10:70]\n",
    "angles_back = angles_range[90:180]\n",
    "\n",
    "m_forw = solver.weightM(np.array(angles_forw, dtype=int))\n",
    "m_back = solver.weightM(np.array(angles_back, dtype=int))\n",
    "\n",
    "\n",
    "X_mon_forw, X_mon_back = np.array(df_mon[angles_forw]) * m_forw, np.array(df_mon[angles_back]) * m_back\n",
    "Y_mon = np.array(df_mon[mon_par_labl])\n",
    "X_dim_forw,X_dim_back = np.array(df_dim[angles_forw]) * m_forw, np.array(df_dim[angles_back]) * m_back\n",
    "Y_dim = np.array(df_dim[dim_par_labl])"
   ]
  },
  {
   "cell_type": "code",
   "execution_count": 5,
   "id": "b83a329d",
   "metadata": {},
   "outputs": [
    {
     "name": "stderr",
     "output_type": "stream",
     "text": [
      "100%|██████████| 5000/5000 [03:26<00:00, 24.19it/s]\n"
     ]
    }
   ],
   "source": [
    "solver.initModels(X_mon_forw, Y_mon)\n",
    "res = solver.NearestNeighborsRegressorFit(X_dim_forw, model='BruteForce')\n",
    "mean, sigmas = solver.BayessianEstimation(X_dim_forw, neighbors=1000)"
   ]
  },
  {
   "cell_type": "code",
   "execution_count": 6,
   "id": "0a344ab1",
   "metadata": {},
   "outputs": [],
   "source": [
    "np.savetxt('nearest.txt', res)\n",
    "np.savetxt('means.txt', mean)\n",
    "np.savetxt('sigmas.txt', sigmas)"
   ]
  },
  {
   "cell_type": "code",
   "execution_count": null,
   "id": "22a9aa80",
   "metadata": {},
   "outputs": [],
   "source": []
  }
 ],
 "metadata": {
  "kernelspec": {
   "display_name": "Python 3 (ipykernel)",
   "language": "python",
   "name": "python3"
  },
  "language_info": {
   "codemirror_mode": {
    "name": "ipython",
    "version": 3
   },
   "file_extension": ".py",
   "mimetype": "text/x-python",
   "name": "python",
   "nbconvert_exporter": "python",
   "pygments_lexer": "ipython3",
   "version": "3.11.7"
  }
 },
 "nbformat": 4,
 "nbformat_minor": 5
}
